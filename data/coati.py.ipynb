{
 "cells": [
  {
   "cell_type": "code",
   "execution_count": 13,
   "id": "96cc7b48",
   "metadata": {},
   "outputs": [
    {
     "name": "stdout",
     "output_type": "stream",
     "text": [
      "Collecting Bio\n",
      "  Downloading bio-1.5.3-py3-none-any.whl (272 kB)\n",
      "     -------------------------------------- 272.6/272.6 kB 2.1 MB/s eta 0:00:00\n",
      "Requirement already satisfied: requests in c:\\users\\mika\\anaconda3\\lib\\site-packages (from Bio) (2.28.1)\n",
      "Collecting biopython>=1.80\n",
      "  Downloading biopython-1.81-cp39-cp39-win_amd64.whl (2.7 MB)\n",
      "     ---------------------------------------- 2.7/2.7 MB 5.1 MB/s eta 0:00:00\n",
      "Requirement already satisfied: tqdm in c:\\users\\mika\\anaconda3\\lib\\site-packages (from Bio) (4.64.1)\n",
      "Collecting mygene\n",
      "  Downloading mygene-3.2.2-py2.py3-none-any.whl (5.4 kB)\n",
      "Requirement already satisfied: numpy in c:\\users\\mika\\anaconda3\\lib\\site-packages (from biopython>=1.80->Bio) (1.21.5)\n",
      "Collecting biothings-client>=0.2.6\n",
      "  Downloading biothings_client-0.2.6-py2.py3-none-any.whl (37 kB)\n",
      "Requirement already satisfied: idna<4,>=2.5 in c:\\users\\mika\\anaconda3\\lib\\site-packages (from requests->Bio) (3.3)\n",
      "Requirement already satisfied: charset-normalizer<3,>=2 in c:\\users\\mika\\anaconda3\\lib\\site-packages (from requests->Bio) (2.0.4)\n",
      "Requirement already satisfied: urllib3<1.27,>=1.21.1 in c:\\users\\mika\\anaconda3\\lib\\site-packages (from requests->Bio) (1.26.11)\n",
      "Requirement already satisfied: certifi>=2017.4.17 in c:\\users\\mika\\anaconda3\\lib\\site-packages (from requests->Bio) (2022.9.14)\n",
      "Requirement already satisfied: colorama in c:\\users\\mika\\anaconda3\\lib\\site-packages (from tqdm->Bio) (0.4.5)\n",
      "Installing collected packages: biopython, biothings-client, mygene, Bio\n",
      "Successfully installed Bio-1.5.3 biopython-1.81 biothings-client-0.2.6 mygene-3.2.2\n"
     ]
    }
   ],
   "source": [
    "# Escriba aquí su código para el ejercicio 3\n",
    "!pip install Bio"
   ]
  },
  {
   "cell_type": "code",
   "execution_count": 24,
   "id": "c2ebce14",
   "metadata": {},
   "outputs": [],
   "source": [
    "def fasta_downloader(id_coati):\n",
    "    \"La función I con input de IDs del genbank y output que genera los dos documentos .gb y .fasta con los IDs\"\n",
    "    from Bio import Entrez\n",
    "    in_sequence = open(id_coati, \"r\")\n",
    "    out_sequence_gb = open(\"data/coati.gb\", \"w\")\n",
    "    out_sequence_fasta = open(\"data/coati.fasta\", \"w\")\n",
    "    \n",
    "    \n",
    "    for linea in in_sequence:\n",
    "        Entrez.email = \"micaela23campos@gmail.com\"\n",
    "        handle = Entrez.efetch(db = \"nucleotide\", id = linea, rettype = \"gb\", retmode = \"text\")\n",
    "        data = (handle.read())\n",
    "        out_sequence_gb.write(data)\n",
    "    out_sequence_gb.close()\n",
    "    \n",
    "    for linea in in_sequence:\n",
    "        Entrez.email = \"micaela23campos@gmail.com\"\n",
    "        handle = Entrez.efetch(db = \"nucleotide\", id = linea, rettype = \"fasta\", retmode = \"text\")\n",
    "        data = (handle.read())\n",
    "        out_sequence_fasta.write(data)\n",
    "    out_sequence_fasta.close()"
   ]
  },
  {
   "cell_type": "code",
   "execution_count": 25,
   "id": "0c94ff68",
   "metadata": {},
   "outputs": [],
   "source": [
    "def aligment (archivo_fasta):\n",
    "    \"funcion II introduce en input un archivo de secuencias .fasta y genera informacion de alineacion y dendograma de las secuencias\"\n",
    "    from Bio.Align.Applications import ClustalwCommandline\n",
    "    import os\n",
    "    from Bio import AlignIO\n",
    "    from Bio import Phylo\n",
    "    clustalw_exe = r\"C:\\Program files (x86)\\ClustalW2\\clustalw2.exe\"\n",
    "    clustalw_cline = ClustalwCommandline(clustalw_exe, infile = \"data\\coati.fasta\")\n",
    "    assert os.path.isfile(clustalw_exe), \"Clustal_w executable is missing or not found\"\n",
    "    stdout, stderr = clustalw_cline()\n",
    "    print (clustalw_cline)\n",
    "    ClustalAlign = AlignIO.read(\"data/coati.aln\", \"clustal\")\n",
    "    print(ClustalAlign)\n",
    "    tree = Phylo.read(\"data/coati.dnd\", \"newick\")"
   ]
  },
  {
   "cell_type": "code",
   "execution_count": 26,
   "id": "109b8e63",
   "metadata": {},
   "outputs": [],
   "source": [
    "def tree (alineacion):\n",
    "    \"funcion III, creacion y grafica del arbol filogenetico del coati\"\n",
    "    from Bio import Phylo \n",
    "    from Bio import SeqIO\n",
    "    from Bio import AlignIO\n",
    "    from Bio.Phylo.TreeConstruction import DistanceTreeConstructor\n",
    "    from Bio.Phylo.TreeConstruction import DistanceCalculator\n",
    "    \n",
    "    with open (alineacion, \"r\") as aln:\n",
    "        alignment = AlignIO.read(aln, \"clustal\")\n",
    "        calculator = DistanceCalculator(\"blosum62\")\n",
    "        distance_matrix = calculator.get_distance(alignment)\n",
    "        constructor = DistanceTreeConstructor(calculator)\n",
    "        \n",
    "    ##ARBOL\n",
    "    align_total = constructor.build_tree(alignment)\n",
    "    align_total.rooted = True\n",
    "    Phylo.write(align_total, \"coati.xml\", \"phyloxml\")\n",
    "    \n",
    "    ## Librerias para construir el arbol\n",
    "    import matplotlib\n",
    "    import matplotlib.pyplot as plt\n",
    "    \n",
    "    ### Configuracion de medidas, colores, etc del arbol\n",
    "    fig = plt.figure(figsize = (30, 40), dpi = 100)\n",
    "    matplotlib.rc(\"font\", size = 20)\n",
    "    matplotlib.rc(\"xtick\", labelsize = 20)           \n",
    "    matplotlib.rc(\"ytick\", labelsize = 20)\n",
    "    axes = fig.add_subplot(1, 1, 1)\n",
    "    Phylo.draw(align_total, axes = axes)\n",
    "                \n",
    "    # Creacion del archivo coati_phylotree.pdf con el grafico\n",
    "    fig.savefig(\"data/coati_phylotree.pdf\", dpi = 500 )\n",
    "    "
   ]
  },
  {
   "cell_type": "code",
   "execution_count": 27,
   "id": "7a60575e",
   "metadata": {},
   "outputs": [
    {
     "data": {
      "text/plain": [
       "'C:\\\\Users\\\\MIKA\\\\Documents\\\\CSB-master\\\\git\\\\sandbox\\\\2022II_GBI6_exam2\\\\data'"
      ]
     },
     "execution_count": 27,
     "metadata": {},
     "output_type": "execute_result"
    }
   ],
   "source": [
    "pwd"
   ]
  },
  {
   "cell_type": "code",
   "execution_count": 28,
   "id": "576aa613",
   "metadata": {},
   "outputs": [],
   "source": [
    "import coati"
   ]
  },
  {
   "cell_type": "code",
   "execution_count": 29,
   "id": "712faafd",
   "metadata": {},
   "outputs": [
    {
     "name": "stdout",
     "output_type": "stream",
     "text": [
      "Help on module coati:\n",
      "\n",
      "NAME\n",
      "    coati\n",
      "\n",
      "DESCRIPTION\n",
      "    ##########EJERCICIO 3\n",
      "    ### Primera función creación de la data\n",
      "\n",
      "FUNCTIONS\n",
      "    aligment(archivo_fasta)\n",
      "        funcion II introduce en input un archivo de secuencias .fasta y genera informacion de alineacion y dendograma de las secuencias\n",
      "    \n",
      "    fasta_downloader(id_coati)\n",
      "        funcion I con input de IDs del genbank y output que genera los dos documentos .gb y .fasta con los IDs\n",
      "    \n",
      "    tree(alineacion)\n",
      "        funcion III, creacion y grafica del arbol filogenetico del coati\n",
      "\n",
      "FILE\n",
      "    c:\\users\\mika\\documents\\csb-master\\git\\sandbox\\2022ii_gbi6_exam2\\data\\coati.py\n",
      "\n",
      "\n"
     ]
    }
   ],
   "source": [
    "help(coati)"
   ]
  },
  {
   "cell_type": "code",
   "execution_count": null,
   "id": "47843a34",
   "metadata": {},
   "outputs": [],
   "source": [
    "cd data"
   ]
  },
  {
   "cell_type": "code",
   "execution_count": 35,
   "id": "7ee39c6d",
   "metadata": {},
   "outputs": [
    {
     "ename": "SyntaxError",
     "evalue": "invalid syntax (1917287210.py, line 1)",
     "output_type": "error",
     "traceback": [
      "\u001b[1;36m  File \u001b[1;32m\"C:\\Users\\MIKA\\AppData\\Local\\Temp\\ipykernel_2764\\1917287210.py\"\u001b[1;36m, line \u001b[1;32m1\u001b[0m\n\u001b[1;33m    cd..\\\u001b[0m\n\u001b[1;37m       ^\u001b[0m\n\u001b[1;31mSyntaxError\u001b[0m\u001b[1;31m:\u001b[0m invalid syntax\n"
     ]
    }
   ],
   "source": [
    "cd..\\"
   ]
  },
  {
   "cell_type": "code",
   "execution_count": 36,
   "id": "fcf7d19b",
   "metadata": {},
   "outputs": [
    {
     "ename": "SyntaxError",
     "evalue": "EOL while scanning string literal (1398442387.py, line 1)",
     "output_type": "error",
     "traceback": [
      "\u001b[1;36m  File \u001b[1;32m\"C:\\Users\\MIKA\\AppData\\Local\\Temp\\ipykernel_2764\\1398442387.py\"\u001b[1;36m, line \u001b[1;32m1\u001b[0m\n\u001b[1;33m    coati.fasta_downloader(id_coati\")\u001b[0m\n\u001b[1;37m                                     ^\u001b[0m\n\u001b[1;31mSyntaxError\u001b[0m\u001b[1;31m:\u001b[0m EOL while scanning string literal\n"
     ]
    }
   ],
   "source": [
    "coati.fasta_downloader(id_coati\")"
   ]
  },
  {
   "cell_type": "code",
   "execution_count": null,
   "id": "6c150abd",
   "metadata": {},
   "outputs": [],
   "source": [
    "coati.aligment(\"data\\coati.aln\")"
   ]
  },
  {
   "cell_type": "code",
   "execution_count": null,
   "id": "698a0851",
   "metadata": {},
   "outputs": [],
   "source": [
    "# Escriba aquí su código para el ejercicio 4\n",
    "coati.tree(\"data\\coati.aln\")"
   ]
  }
 ],
 "metadata": {
  "kernelspec": {
   "display_name": "Python 3 (ipykernel)",
   "language": "python",
   "name": "python3"
  },
  "language_info": {
   "codemirror_mode": {
    "name": "ipython",
    "version": 3
   },
   "file_extension": ".py",
   "mimetype": "text/x-python",
   "name": "python",
   "nbconvert_exporter": "python",
   "pygments_lexer": "ipython3",
   "version": "3.9.13"
  }
 },
 "nbformat": 4,
 "nbformat_minor": 5
}
